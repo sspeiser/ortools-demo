{
 "cells": [
  {
   "cell_type": "code",
   "execution_count": null,
   "id": "1863ebcb",
   "metadata": {},
   "outputs": [],
   "source": [
    "# Australian Map Coloring Example from AIMA\n",
    "# States: WA, NT, SA, Q, NSW, V, T\n",
    "# Colors: Red, Green, Blue\n",
    "\n",
    "states = ['WA', 'NT', 'SA', 'Q', 'NSW', 'V', 'T']\n",
    "neighbors = {\n",
    "    'WA': ['NT', 'SA'],\n",
    "    'NT': ['WA', 'SA', 'Q'],\n",
    "    'SA': ['WA', 'NT', 'Q', 'NSW', 'V'],\n",
    "    'Q': ['NT', 'SA', 'NSW'],\n",
    "    'NSW': ['Q', 'SA', 'V'],\n",
    "    'V': ['SA', 'NSW'],\n",
    "    'T': []\n",
    "}\n",
    "colors = ['Red', 'Green', 'Blue']\n",
    "\n",
    "def is_valid(state, color, assignment):\n",
    "    for neighbor in neighbors[state]:\n",
    "        if neighbor in assignment and assignment[neighbor] == color:\n",
    "            return False\n",
    "    return True\n",
    "\n",
    "def backtrack(assignment):\n",
    "    if len(assignment) == len(states):\n",
    "        return assignment\n",
    "    unassigned = [s for s in states if s not in assignment]\n",
    "    state = unassigned[0]\n",
    "    for color in colors:\n",
    "        if is_valid(state, color, assignment):\n",
    "            assignment[state] = color\n",
    "            result = backtrack(assignment)\n",
    "            if result:\n",
    "                return result\n",
    "            del assignment[state]\n",
    "    return None\n",
    "\n",
    "solution = backtrack({})\n",
    "print(solution)"
   ]
  }
 ],
 "metadata": {
  "language_info": {
   "name": "python"
  }
 },
 "nbformat": 4,
 "nbformat_minor": 5
}
