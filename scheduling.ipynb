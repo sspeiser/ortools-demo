{
 "cells": [
  {
   "cell_type": "code",
   "execution_count": null,
   "id": "78896b4c",
   "metadata": {
    "vscode": {
     "languageId": "plaintext"
    }
   },
   "outputs": [],
   "source": [
    "from ortools.linear_solver import pywraplp\n",
    "\n",
    "solver = pywraplp.Solver.CreateSolver(\"GLOP\")\n",
    "\n",
    "# Beispiel: Scheduling mit Kosten, Nutzen und Abhängigkeiten\n",
    "\n",
    "# Gegeben:\n",
    "# - activities: Liste von Aktivitäten mit Dauer, Kosten, Nutzen\n",
    "# - dependencies: Liste von (Vorgänger, Nachfolger)\n",
    "# - max_time: verfügbare Stunden\n",
    "\n",
    "activities = {\n",
    "    'A': {'dauer': 2, 'kosten': 3, 'nutzen': 5},\n",
    "    'B': {'dauer': 3, 'kosten': 2, 'nutzen': 8},\n",
    "    'C': {'dauer': 1, 'kosten': 1, 'nutzen': 2},\n",
    "    'D': {'dauer': 2, 'kosten': 4, 'nutzen': 6}\n",
    "}\n",
    "dependencies = [('A', 'B'), ('B', 'D')]  # B nach A, D nach B\n",
    "max_time = 5\n",
    "\n",
    "# Variablen: y[act] = 1, wenn Aktivität gewählt\n",
    "y = {}\n",
    "for act in activities:\n",
    "    y[act] = solver.BoolVar(f'y_{act}')\n",
    "\n",
    "# Zeitbudget\n",
    "solver.Add(solver.Sum([activities[act]['dauer'] * y[act] for act in activities]) <= max_time)\n",
    "\n",
    "# Abhängigkeiten\n",
    "for pre, post in dependencies:\n",
    "    solver.Add(y[post] <= y[pre])\n",
    "\n",
    "# Ziel: Gesamtnutzen maximieren\n",
    "solver.Maximize(solver.Sum([activities[act]['nutzen'] * y[act] for act in activities]))\n",
    "\n",
    "status = solver.Solve()\n",
    "\n",
    "if status == pywraplp.Solver.OPTIMAL:\n",
    "    print(\"Ausgewählte Aktivitäten:\")\n",
    "    for act in activities:\n",
    "        if y[act].solution_value() == 1:\n",
    "            print(f\"{act} (Dauer: {activities[act]['dauer']}, Nutzen: {activities[act]['nutzen']})\")\n",
    "else:\n",
    "    print(\"Keine Lösung gefunden.\")"
   ]
  }
 ],
 "metadata": {
  "language_info": {
   "name": "python"
  }
 },
 "nbformat": 4,
 "nbformat_minor": 5
}
