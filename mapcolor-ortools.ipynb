{
 "cells": [
  {
   "cell_type": "code",
   "execution_count": null,
   "id": "97bae0c7",
   "metadata": {
    "vscode": {
     "languageId": "plaintext"
    }
   },
   "outputs": [],
   "source": [
    "from ortools.linear_solver import pywraplp   \n",
    "\n",
    "eate the solver\n",
    "solver = pywraplp.Solver.CreateSolver('SCIP')\n",
    "\n",
    "# Variables: x[state][color] = 1 if state is assigned color\n",
    "x = {}\n",
    "for state in states:\n",
    "    x[state] = {}\n",
    "    for color in colors:\n",
    "        x[state][color] = solver.BoolVar(f'x_{state}_{color}')\n",
    "\n",
    "# Each state must have exactly one color\n",
    "for state in states:\n",
    "    solver.Add(solver.Sum([x[state][color] for color in colors]) == 1)\n",
    "\n",
    "# Neighboring states must not have the same color\n",
    "for state in states:\n",
    "    for neighbor in neighbors[state]:\n",
    "        if state < neighbor:  # Avoid duplicate constraints\n",
    "            for color in colors:\n",
    "                solver.Add(x[state][color] + x[neighbor][color] <= 1)\n",
    "\n",
    "# Solve\n",
    "status = solver.Solve()\n",
    "\n",
    "if status == pywraplp.Solver.OPTIMAL:\n",
    "    assignment = {}\n",
    "    for state in states:\n",
    "        for color in colors:\n",
    "            if x[state][color].solution_value() == 1:\n",
    "                assignment[state] = color\n",
    "    print(assignment)\n",
    "else:\n",
    "    print(\"No solution found.\")"
   ]
  }
 ],
 "metadata": {
  "language_info": {
   "name": "python"
  }
 },
 "nbformat": 4,
 "nbformat_minor": 5
}
